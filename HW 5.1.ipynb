{
 "cells": [
  {
   "cell_type": "code",
   "execution_count": 33,
   "metadata": {},
   "outputs": [],
   "source": [
    "from pymongo import MongoClient\n",
    "import pprint\n",
    "import requests"
   ]
  },
  {
   "cell_type": "code",
   "execution_count": 34,
   "metadata": {},
   "outputs": [],
   "source": [
    "client = MongoClient('mongodb://localhost:27017')\n",
    "db = client.samples_pokemon\n",
    "collection = db.samples_pokemon"
   ]
  },
  {
   "cell_type": "code",
   "execution_count": 47,
   "metadata": {},
   "outputs": [],
   "source": [
    "pokemons = collection.find({'candy_count':{'$gt':40}}, {'name':1, 'candy_count':1})"
   ]
  },
  {
   "cell_type": "code",
   "execution_count": 48,
   "metadata": {},
   "outputs": [
    {
     "name": "stdout",
     "output_type": "stream",
     "text": [
      "{'_id': ObjectId('58f56171ee9d4bd5e610d645'), 'name': 'Ivysaur', 'candy_count': 100.0}\n",
      "{'_id': ObjectId('58f56171ee9d4bd5e610d648'), 'name': 'Charmeleon', 'candy_count': 100.0}\n",
      "{'_id': ObjectId('58f56171ee9d4bd5e610d64b'), 'name': 'Wartortle', 'candy_count': 100.0}\n",
      "{'_id': ObjectId('58f56171ee9d4bd5e610d64e'), 'name': 'Metapod', 'candy_count': 50.0}\n",
      "{'_id': ObjectId('58f56171ee9d4bd5e610d651'), 'name': 'Kakuna', 'candy_count': 50.0}\n",
      "{'_id': ObjectId('58f56171ee9d4bd5e610d654'), 'name': 'Pidgeotto', 'candy_count': 50.0}\n",
      "{'_id': ObjectId('58f56171ee9d4bd5e610d658'), 'name': 'Spearow', 'candy_count': 50.0}\n",
      "{'_id': ObjectId('58f56171ee9d4bd5e610d65a'), 'name': 'Ekans', 'candy_count': 50.0}\n",
      "{'_id': ObjectId('58f56171ee9d4bd5e610d65c'), 'name': 'Pikachu', 'candy_count': 50.0}\n",
      "{'_id': ObjectId('58f56171ee9d4bd5e610d65e'), 'name': 'Sandshrew', 'candy_count': 50.0}\n",
      "{'_id': ObjectId('58f56171ee9d4bd5e610d661'), 'name': 'Nidorina', 'candy_count': 100.0}\n",
      "{'_id': ObjectId('58f56171ee9d4bd5e610d664'), 'name': 'Nidorino', 'candy_count': 100.0}\n",
      "{'_id': ObjectId('58f56171ee9d4bd5e610d666'), 'name': 'Clefairy', 'candy_count': 50.0}\n",
      "{'_id': ObjectId('58f56171ee9d4bd5e610d668'), 'name': 'Vulpix', 'candy_count': 50.0}\n",
      "{'_id': ObjectId('58f56171ee9d4bd5e610d66a'), 'name': 'Jigglypuff', 'candy_count': 50.0}\n",
      "{'_id': ObjectId('58f56171ee9d4bd5e610d66c'), 'name': 'Zubat', 'candy_count': 50.0}\n",
      "{'_id': ObjectId('58f56171ee9d4bd5e610d66f'), 'name': 'Gloom', 'candy_count': 100.0}\n",
      "{'_id': ObjectId('58f56171ee9d4bd5e610d671'), 'name': 'Paras', 'candy_count': 50.0}\n",
      "{'_id': ObjectId('58f56171ee9d4bd5e610d673'), 'name': 'Venonat', 'candy_count': 50.0}\n",
      "{'_id': ObjectId('58f56171ee9d4bd5e610d675'), 'name': 'Diglett', 'candy_count': 50.0}\n",
      "{'_id': ObjectId('58f56171ee9d4bd5e610d677'), 'name': 'Meowth', 'candy_count': 50.0}\n",
      "{'_id': ObjectId('58f56171ee9d4bd5e610d679'), 'name': 'Psyduck', 'candy_count': 50.0}\n",
      "{'_id': ObjectId('58f56171ee9d4bd5e610d67b'), 'name': 'Mankey', 'candy_count': 50.0}\n",
      "{'_id': ObjectId('58f56171ee9d4bd5e610d67d'), 'name': 'Growlithe', 'candy_count': 50.0}\n",
      "{'_id': ObjectId('58f56171ee9d4bd5e610d680'), 'name': 'Poliwhirl', 'candy_count': 100.0}\n",
      "{'_id': ObjectId('58f56171ee9d4bd5e610d683'), 'name': 'Kadabra', 'candy_count': 100.0}\n",
      "{'_id': ObjectId('58f56171ee9d4bd5e610d686'), 'name': 'Machoke', 'candy_count': 100.0}\n",
      "{'_id': ObjectId('58f56171ee9d4bd5e610d689'), 'name': 'Weepinbell', 'candy_count': 100.0}\n",
      "{'_id': ObjectId('58f56171ee9d4bd5e610d68b'), 'name': 'Tentacool', 'candy_count': 50.0}\n",
      "{'_id': ObjectId('58f56171ee9d4bd5e610d68e'), 'name': 'Graveler', 'candy_count': 100.0}\n",
      "{'_id': ObjectId('58f56171ee9d4bd5e610d690'), 'name': 'Ponyta', 'candy_count': 50.0}\n",
      "{'_id': ObjectId('58f56171ee9d4bd5e610d692'), 'name': 'Slowpoke', 'candy_count': 50.0}\n",
      "{'_id': ObjectId('58f56171ee9d4bd5e610d694'), 'name': 'Magnemite', 'candy_count': 50.0}\n",
      "{'_id': ObjectId('58f56171ee9d4bd5e610d697'), 'name': 'Doduo', 'candy_count': 50.0}\n",
      "{'_id': ObjectId('58f56171ee9d4bd5e610d699'), 'name': 'Seel', 'candy_count': 50.0}\n",
      "{'_id': ObjectId('58f56171ee9d4bd5e610d69b'), 'name': 'Grimer', 'candy_count': 50.0}\n",
      "{'_id': ObjectId('58f56171ee9d4bd5e610d69d'), 'name': 'Shellder', 'candy_count': 50.0}\n",
      "{'_id': ObjectId('58f56171ee9d4bd5e610d6a0'), 'name': 'Haunter', 'candy_count': 100.0}\n",
      "{'_id': ObjectId('58f56171ee9d4bd5e610d6a3'), 'name': 'Drowzee', 'candy_count': 50.0}\n",
      "{'_id': ObjectId('58f56171ee9d4bd5e610d6a5'), 'name': 'Krabby', 'candy_count': 50.0}\n",
      "{'_id': ObjectId('58f56171ee9d4bd5e610d6a7'), 'name': 'Voltorb', 'candy_count': 50.0}\n",
      "{'_id': ObjectId('58f56171ee9d4bd5e610d6a9'), 'name': 'Exeggcute', 'candy_count': 50.0}\n",
      "{'_id': ObjectId('58f56171ee9d4bd5e610d6ab'), 'name': 'Cubone', 'candy_count': 50.0}\n",
      "{'_id': ObjectId('58f56171ee9d4bd5e610d6b0'), 'name': 'Koffing', 'candy_count': 50.0}\n",
      "{'_id': ObjectId('58f56171ee9d4bd5e610d6b2'), 'name': 'Rhyhorn', 'candy_count': 50.0}\n",
      "{'_id': ObjectId('58f56171ee9d4bd5e610d6b7'), 'name': 'Horsea', 'candy_count': 50.0}\n",
      "{'_id': ObjectId('58f56171ee9d4bd5e610d6b9'), 'name': 'Goldeen', 'candy_count': 50.0}\n",
      "{'_id': ObjectId('58f56171ee9d4bd5e610d6bb'), 'name': 'Staryu', 'candy_count': 50.0}\n",
      "{'_id': ObjectId('58f56171ee9d4bd5e610d6c4'), 'name': 'Magikarp', 'candy_count': 400.0}\n",
      "{'_id': ObjectId('58f56171ee9d4bd5e610d6cd'), 'name': 'Omanyte', 'candy_count': 50.0}\n",
      "{'_id': ObjectId('58f56171ee9d4bd5e610d6cf'), 'name': 'Kabuto', 'candy_count': 50.0}\n",
      "{'_id': ObjectId('58f56171ee9d4bd5e610d6d7'), 'name': 'Dragonair', 'candy_count': 100.0}\n"
     ]
    }
   ],
   "source": [
    "for pokemon in pokemons:\n",
    "    print(pokemon)"
   ]
  },
  {
   "cell_type": "code",
   "execution_count": null,
   "metadata": {},
   "outputs": [],
   "source": []
  }
 ],
 "metadata": {
  "kernelspec": {
   "display_name": "Python 3",
   "language": "python",
   "name": "python3"
  },
  "language_info": {
   "codemirror_mode": {
    "name": "ipython",
    "version": 3
   },
   "file_extension": ".py",
   "mimetype": "text/x-python",
   "name": "python",
   "nbconvert_exporter": "python",
   "pygments_lexer": "ipython3",
   "version": "3.7.3"
  }
 },
 "nbformat": 4,
 "nbformat_minor": 2
}
