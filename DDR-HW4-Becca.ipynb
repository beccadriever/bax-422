{
 "cells": [
  {
   "cell_type": "markdown",
   "metadata": {},
   "source": [
    "### HOMEWORK 4 ###\n",
    "# Michael Chen, Rebecca Driever, Rayna Ji"
   ]
  },
  {
   "cell_type": "code",
   "execution_count": 1,
   "metadata": {},
   "outputs": [],
   "source": [
    "# import necessary packages\n",
    "import requests\n",
    "import re\n",
    "import pandas as pd\n",
    "import json"
   ]
  },
  {
   "cell_type": "markdown",
   "metadata": {},
   "source": [
    "### PART 1 ###"
   ]
  },
  {
   "cell_type": "code",
   "execution_count": 2,
   "metadata": {},
   "outputs": [],
   "source": [
    "# A #\n",
    "# http://www.omdbapi.com/?apikey=b1aab5d&s=blade&type=movie"
   ]
  },
  {
   "cell_type": "code",
   "execution_count": 3,
   "metadata": {
    "scrolled": false
   },
   "outputs": [
    {
     "name": "stdout",
     "output_type": "stream",
     "text": [
      "{'Search': [{'Title': 'Blade Runner', 'Year': '1982', 'imdbID': 'tt0083658', 'Type': 'movie', 'Poster': 'https://m.media-amazon.com/images/M/MV5BNzQzMzJhZTEtOWM4NS00MTdhLTg0YjgtMjM4MDRkZjUwZDBlXkEyXkFqcGdeQXVyNjU0OTQ0OTY@._V1_SX300.jpg'}, {'Title': 'Blade Runner 2049', 'Year': '2017', 'imdbID': 'tt1856101', 'Type': 'movie', 'Poster': 'https://m.media-amazon.com/images/M/MV5BNzA1Njg4NzYxOV5BMl5BanBnXkFtZTgwODk5NjU3MzI@._V1_SX300.jpg'}, {'Title': 'Blade', 'Year': '1998', 'imdbID': 'tt0120611', 'Type': 'movie', 'Poster': 'https://m.media-amazon.com/images/M/MV5BOTk2NDNjZWQtMGY0Mi00YTY2LWE5MzctMGRhZmNlYzljYTg5XkEyXkFqcGdeQXVyMTAyNjg4NjE0._V1_SX300.jpg'}, {'Title': 'Blade II', 'Year': '2002', 'imdbID': 'tt0187738', 'Type': 'movie', 'Poster': 'https://m.media-amazon.com/images/M/MV5BOWVjZTIzNDYtNTBlNC00NTJjLTkzOTEtOTE0MjlhYzI2YTcyXkEyXkFqcGdeQXVyNTAyODkwOQ@@._V1_SX300.jpg'}, {'Title': 'Blade: Trinity', 'Year': '2004', 'imdbID': 'tt0359013', 'Type': 'movie', 'Poster': 'https://m.media-amazon.com/images/M/MV5BMjE0Nzg2MzI3MF5BMl5BanBnXkFtZTYwMjExODQ3._V1_SX300.jpg'}, {'Title': 'Sling Blade', 'Year': '1996', 'imdbID': 'tt0117666', 'Type': 'movie', 'Poster': 'https://m.media-amazon.com/images/M/MV5BNGY5NWIxMjAtODBjNC00MmZhLTk1ZTAtNGRhYThlOTNjMTQwXkEyXkFqcGdeQXVyNTc1NTQxODI@._V1_SX300.jpg'}, {'Title': 'Dragon Blade', 'Year': '2015', 'imdbID': 'tt3672840', 'Type': 'movie', 'Poster': 'https://m.media-amazon.com/images/M/MV5BMTk0MjgxOTQ5MF5BMl5BanBnXkFtZTgwODA3NTUwNjE@._V1_SX300.jpg'}, {'Title': 'Blade of the Immortal', 'Year': '2017', 'imdbID': 'tt5084170', 'Type': 'movie', 'Poster': 'https://m.media-amazon.com/images/M/MV5BYzIwYmJlMjktMzJiMy00YmQzLThmNWYtNWY3NGViZjc4MzYwXkEyXkFqcGdeQXVyNDQxNjcxNQ@@._V1_SX300.jpg'}, {'Title': 'Shinobi: Heart Under Blade', 'Year': '2005', 'imdbID': 'tt0475723', 'Type': 'movie', 'Poster': 'https://m.media-amazon.com/images/M/MV5BNjZhMTNmMTItNmU4Mi00YTdkLWFkZWUtOGExNTQ3MGRiYWYyXkEyXkFqcGdeQXVyNzI1NzMxNzM@._V1_SX300.jpg'}, {'Title': 'Blade Runner: Black Out 2022', 'Year': '2017', 'imdbID': 'tt7428594', 'Type': 'movie', 'Poster': 'https://m.media-amazon.com/images/M/MV5BZGNiNmNiMTctMDI4OS00OWYxLWE4ZWEtZjFkZjU4ZmY5YzEyXkEyXkFqcGdeQXVyMzgxODM4NjM@._V1_SX300.jpg'}], 'totalResults': '171', 'Response': 'True'}\n"
     ]
    }
   ],
   "source": [
    "# B #\n",
    "link = 'http://www.omdbapi.com/?apikey=b1aab5d&s=blade&type=movie&plot=short&r=json'\n",
    "response = requests.get(link)\n",
    "response_json = response.json()\n",
    "print(response_json)"
   ]
  },
  {
   "cell_type": "code",
   "execution_count": 4,
   "metadata": {},
   "outputs": [
    {
     "name": "stdout",
     "output_type": "stream",
     "text": [
      "tt0083658\n",
      "tt1856101\n",
      "tt0120611\n",
      "tt0187738\n",
      "tt0359013\n",
      "tt0117666\n",
      "tt3672840\n",
      "tt5084170\n",
      "tt0475723\n",
      "tt7428594\n"
     ]
    }
   ],
   "source": [
    "# C #\n",
    "# create python object from search results\n",
    "results = response_json['Search']\n",
    "# for each search result, print imdbID\n",
    "for result in results:\n",
    "    print(result['imdbID'])"
   ]
  },
  {
   "cell_type": "markdown",
   "metadata": {},
   "source": [
    "### PART 2 ###"
   ]
  },
  {
   "cell_type": "code",
   "execution_count": 5,
   "metadata": {},
   "outputs": [],
   "source": [
    "# B #\n",
    "# imdbID = store as char[9]\n",
    "# because it seems as though each ID consists of 9 characters\n",
    "# year = store as integer[4]\n",
    "# because a year will always be an integer of 4 characters\n",
    "# Title = store as variable char\n",
    "# because we don't know how long a title will be\n",
    "# some will be short, some will be long\n",
    "\n",
    "# C #\n",
    "# No, we don't need an additional column because imdbID is a \n",
    "# unique identifier for each movie/series/etc."
   ]
  },
  {
   "cell_type": "code",
   "execution_count": 6,
   "metadata": {
    "scrolled": true
   },
   "outputs": [],
   "source": [
    "# D #\n",
    "from sqlalchemy import *\n",
    "#!pip install mysql-connector\n",
    "import mysql.connector"
   ]
  },
  {
   "cell_type": "code",
   "execution_count": 7,
   "metadata": {},
   "outputs": [],
   "source": [
    "connection = mysql.connector.connect(\n",
    "  host=\"localhost\",\n",
    "  user=\"root\",\n",
    "  passwd=\"\",\n",
    ")\n",
    "\n",
    "mycursor = connection.cursor()\n",
    "\n",
    "mycursor.execute(\"CREATE DATABASE omdb\")\n"
   ]
  },
  {
   "cell_type": "code",
   "execution_count": 8,
   "metadata": {},
   "outputs": [],
   "source": [
    "connection = mysql.connector.connect(\n",
    "  host=\"localhost\",\n",
    "  user=\"root\",\n",
    "  passwd=\"\",\n",
    "  database=\"omdb\"\n",
    ")\n",
    "\n",
    "mycursor = connection.cursor()\n",
    "\n",
    "mycursor.execute(\"CREATE TABLE omdb_test (imdb_id CHAR(9) PRIMARY KEY, title VARCHAR(100), year INT(4))\")\n"
   ]
  },
  {
   "cell_type": "markdown",
   "metadata": {},
   "source": [
    "### PART 3"
   ]
  },
  {
   "cell_type": "code",
   "execution_count": 9,
   "metadata": {
    "scrolled": true
   },
   "outputs": [
    {
     "name": "stdout",
     "output_type": "stream",
     "text": [
      "Top Gun   tt0092099\n",
      "The Little Rascals   tt0110366\n",
      "Blades of Glory   tt0445934\n",
      "American Pie   tt0163651\n",
      "Titanic   tt0120338\n",
      "Captain America: The First Avenger   tt0458339\n",
      "Love, Actually   tt0314331\n",
      "The Conjuring   tt1457767\n",
      "Girls Trip   tt3564472\n",
      "50 First Dates   tt0343660\n"
     ]
    }
   ],
   "source": [
    "# A #\n",
    "titles = ['top+gun',\\\n",
    "          'the+little+rascals',\\\n",
    "          'blades+of+glory',\\\n",
    "          'american+pie',\\\n",
    "          'titanic',\\\n",
    "          'captain+america+:',\\\n",
    "          'love+actually',\\\n",
    "          'the+conjuring',\\\n",
    "          'girls+trip',\\\n",
    "          '50+first+dates']\n",
    "for title in titles:\n",
    "    link = 'http://www.omdbapi.com/?apikey=b1aab5d&t='+title\n",
    "    response = requests.get(link)\n",
    "    response_json = response.json()\n",
    "    print(response_json['Title'],' ',response_json['imdbID'])"
   ]
  },
  {
   "cell_type": "code",
   "execution_count": 10,
   "metadata": {},
   "outputs": [
    {
     "name": "stdout",
     "output_type": "stream",
     "text": [
      "Top Gun   tt0092099\n",
      "The Little Rascals   tt0110366\n",
      "Blades of Glory   tt0445934\n",
      "American Pie   tt0163651\n",
      "Titanic   tt0120338\n",
      "Captain America: The First Avenger   tt0458339\n",
      "Love, Actually   tt0314331\n",
      "The Conjuring   tt1457767\n",
      "Girls Trip   tt3564472\n",
      "50 First Dates   tt0343660\n"
     ]
    }
   ],
   "source": [
    "# B #\n",
    "ids = ['tt0092099',\\\n",
    "       'tt0110366',\\\n",
    "       'tt0445934',\\\n",
    "       'tt0163651',\\\n",
    "       'tt0120338',\\\n",
    "       'tt0458339',\\\n",
    "       'tt0314331',\\\n",
    "       'tt1457767',\\\n",
    "       'tt3564472',\\\n",
    "       'tt0343660']\n",
    "for id in ids:\n",
    "    link = 'http://www.omdbapi.com/?apikey=b1aab5d&i='+str(id)\n",
    "    response = requests.get(link)\n",
    "    response_json = response.json()\n",
    "    print(response_json['Title'],' ',response_json['imdbID'])"
   ]
  },
  {
   "cell_type": "code",
   "execution_count": 11,
   "metadata": {},
   "outputs": [],
   "source": [
    "# C #\n",
    "connection = mysql.connector.connect(\n",
    "  host=\"localhost\",\n",
    "  user=\"root\",\n",
    "  passwd=\"\",\n",
    "  database=\"omdb\"\n",
    ")\n",
    "\n",
    "mycursor = connection.cursor()\n",
    "\n",
    "mycursor.execute(\"CREATE TABLE omdb (imdb_id CHAR(9) PRIMARY KEY, title VARCHAR(100), year INT(4), genre VARCHAR(50), director VARCHAR(50), imdb_rating INT(3), rotten_tomatoes INT(3), metacritic INT(3), plot VARCHAR(300), box_office VARCHAR(15))\")\n",
    "\n",
    "\n",
    "\n",
    "\n"
   ]
  },
  {
   "cell_type": "code",
   "execution_count": 12,
   "metadata": {},
   "outputs": [],
   "source": [
    "for id in ids:\n",
    "    link = 'http://www.omdbapi.com/?apikey=b1aab5d&i='+str(id)\n",
    "    response = requests.get(link)\n",
    "    response_json = response.json()\n",
    "    imdb_id = response_json['imdbID']\n",
    "    title = response_json['Title']\n",
    "    year = response_json['Year']\n",
    "    genre = response_json['Genre']\n",
    "    director = response_json['Director']\n",
    "    imdb_rating = int(float(response_json['imdbRating'])*10)\n",
    "    rt_info = response_json['Ratings'][1]\n",
    "    rt_rating = rt_info['Value']\n",
    "    rt_rating = re.sub('\\D', '',rt_rating)\n",
    "    rotten_tomatoes = int(rt_rating)\n",
    "    mc_info = response_json['Ratings'][2]\n",
    "    mc_rating = mc_info['Value']\n",
    "    pattern = re.compile(r'([0-9]+)/.*')\n",
    "    mc_rating = re.sub(pattern, r'\\1', mc_rating)\n",
    "    metacritic = int(mc_rating)\n",
    "    plot = response_json['Plot']\n",
    "    box_office = response_json['BoxOffice']\n",
    "    mycursor.execute(\"\"\"INSERT INTO \n",
    "                   omdb \n",
    "                   (imdb_id, title, year, genre, director, imdb_rating, rotten_tomatoes, metacritic, plot, box_office) \n",
    "               VALUES\n",
    "                   (%(imdb_id)s, %(title)s, %(year)s, %(genre)s, %(director)s, %(imdb_rating)s, %(rotten_tomatoes)s, %(metacritic)s, %(plot)s, %(box_office)s)\"\"\", {'imdb_id': imdb_id, \\\n",
    "                   'title': title, \\\n",
    "                   'year': year, \\\n",
    "                   'genre': genre, \\\n",
    "                   'director': director,\\\n",
    "                   'imdb_rating': imdb_rating, \\\n",
    "                   'rotten_tomatoes': rotten_tomatoes, \\\n",
    "                   'metacritic': metacritic, \\\n",
    "                   'plot': plot,\\\n",
    "                   'box_office': box_office,})\n",
    "    connection.commit()\n",
    "    #print(title, year, genre, director, imdb_rating, rotten_tomatoes, metacritic, plot, box_office)\n",
    "    \n",
    "    \n",
    "    "
   ]
  }
 ],
 "metadata": {
  "kernelspec": {
   "display_name": "Python 3",
   "language": "python",
   "name": "python3"
  },
  "language_info": {
   "codemirror_mode": {
    "name": "ipython",
    "version": 3
   },
   "file_extension": ".py",
   "mimetype": "text/x-python",
   "name": "python",
   "nbconvert_exporter": "python",
   "pygments_lexer": "ipython3",
   "version": "3.7.3"
  }
 },
 "nbformat": 4,
 "nbformat_minor": 2
}
